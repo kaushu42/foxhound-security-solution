{
  "nbformat": 4,
  "nbformat_minor": 0,
  "metadata": {
    "colab": {
      "name": "data_preprocessing.ipynb",
      "provenance": [],
      "collapsed_sections": []
    },
    "kernelspec": {
      "name": "python3",
      "display_name": "Python 3"
    }
  },
  "cells": [
    {
      "cell_type": "code",
      "metadata": {
        "id": "INxw2mx6gV1m",
        "colab_type": "code",
        "colab": {
          "base_uri": "https://localhost:8080/",
          "height": 122
        },
        "outputId": "3ce4c7d2-8bc2-432d-f899-2df48cc7790b"
      },
      "source": [
        "from google.colab import drive\n",
        "drive.mount('/content/drive')"
      ],
      "execution_count": 1,
      "outputs": [
        {
          "output_type": "stream",
          "text": [
            "Go to this URL in a browser: https://accounts.google.com/o/oauth2/auth?client_id=947318989803-6bn6qk8qdgf4n4g3pfee6491hc0brc4i.apps.googleusercontent.com&redirect_uri=urn%3Aietf%3Awg%3Aoauth%3A2.0%3Aoob&scope=email%20https%3A%2F%2Fwww.googleapis.com%2Fauth%2Fdocs.test%20https%3A%2F%2Fwww.googleapis.com%2Fauth%2Fdrive%20https%3A%2F%2Fwww.googleapis.com%2Fauth%2Fdrive.photos.readonly%20https%3A%2F%2Fwww.googleapis.com%2Fauth%2Fpeopleapi.readonly&response_type=code\n",
            "\n",
            "Enter your authorization code:\n",
            "··········\n",
            "Mounted at /content/drive\n"
          ],
          "name": "stdout"
        }
      ]
    },
    {
      "cell_type": "code",
      "metadata": {
        "id": "O1Y_3PSdjDRI",
        "colab_type": "code",
        "colab": {}
      },
      "source": [
        "# input : data frame (not a series)\n",
        "def data_preprocess_pipeline(df):\n",
        "  temp = df.copy()\n",
        "  temp['Receive Time'] = temp['Receive Time'].apply(lambda x : x[-8:])\n",
        "  rows = temp.values\n",
        "  rows = [[sum(bytearray(cell, encoding='utf8')) if isinstance(cell, str) else cell for cell in row] for row in rows]\n",
        "  return pd.DataFrame(rows, columns=temp.columns)"
      ],
      "execution_count": 0,
      "outputs": []
    }
  ]
}