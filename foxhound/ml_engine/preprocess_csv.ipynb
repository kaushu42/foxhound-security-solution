{
  "nbformat": 4,
  "nbformat_minor": 0,
  "metadata": {
    "colab": {
      "name": "preprocess_csv.ipynb",
      "provenance": [],
      "collapsed_sections": []
    },
    "kernelspec": {
      "name": "python3",
      "display_name": "Python 3"
    }
  },
  "cells": [
    {
      "cell_type": "code",
      "metadata": {
        "id": "PrTSUTp_mCyX",
        "colab_type": "code",
        "outputId": "569a4a23-65ab-4c62-eab6-eb592a95bec9",
        "colab": {
          "base_uri": "https://localhost:8080/",
          "height": 54
        }
      },
      "source": [
        "from google.colab import drive\n",
        "drive.mount('/content/drive')"
      ],
      "execution_count": 1,
      "outputs": [
        {
          "output_type": "stream",
          "text": [
            "Drive already mounted at /content/drive; to attempt to forcibly remount, call drive.mount(\"/content/drive\", force_remount=True).\n"
          ],
          "name": "stdout"
        }
      ]
    },
    {
      "cell_type": "code",
      "metadata": {
        "id": "eURs21uamc5H",
        "colab_type": "code",
        "colab": {}
      },
      "source": [
        "import os\n",
        "import numpy as np\n",
        "import pandas as pd\n",
        "import csv\n",
        "from tqdm import tqdm\n",
        "import re\n",
        "import datetime"
      ],
      "execution_count": 0,
      "outputs": []
    },
    {
      "cell_type": "code",
      "metadata": {
        "id": "VzOjAHCSmy0g",
        "colab_type": "code",
        "colab": {}
      },
      "source": [
        "def preprocess_df_and_save_to_csv(df, ip, dest_path):\n",
        "  dest_file_path = f'{dest_path}/{ip}.csv'\n",
        "  if os.path.isfile(dest_file_path):\n",
        "    with open(dest_file_path, 'a') as outfile:\n",
        "      c = csv.writer(outfile)\n",
        "      for index, row in df.iterrows():\n",
        "        c.writerow([sum(bytearray(cell, encoding='utf8')) if isinstance(cell, str) else cell for cell in row.values]) #convert to numeric for string data\n",
        "\n",
        "  else:\n",
        "    count = 0\n",
        "    with open(dest_file_path, 'a') as outfile:\n",
        "      c = csv.writer(outfile)\n",
        "      for index, row in df.iterrows():\n",
        "        if count==0:\n",
        "          count = 1\n",
        "          c.writerow(df.columns)\n",
        "        c.writerow([sum(bytearray(cell, encoding='utf8')) if isinstance(cell, str) else cell for cell in row.values])"
      ],
      "execution_count": 0,
      "outputs": []
    },
    {
      "cell_type": "code",
      "metadata": {
        "id": "382XAEQ6ml6R",
        "colab_type": "code",
        "colab": {}
      },
      "source": [
        "def create_ip_profile(src_file_path, dest_path, features_list):\n",
        "  df = pd.read_csv(src_file_path)\n",
        "  df = df[features_list]  #feature selection\n",
        "  df['Receive Time'] = df['Receive Time'].apply(lambda x : x[-8:])  #remove date information from dataframe\n",
        "  ips = df['Source address'].unique() #get a list of unique ips\n",
        "  print(f'{len(ips)} ips found')\n",
        "  for ip in ips:  #create csv file for individual ips\n",
        "    temp = df[df['Source address']==ip]\n",
        "    #call method to write to csv file\n",
        "    preprocess_df_and_save_to_csv(temp, ip, dest_path)"
      ],
      "execution_count": 0,
      "outputs": []
    },
    {
      "cell_type": "code",
      "metadata": {
        "id": "mDjpwih4mnly",
        "colab_type": "code",
        "colab": {}
      },
      "source": [
        "def parse_all_csv(src_path, dest_path, features_list):\n",
        "  if not os.path.exists(dest_path):\n",
        "    os.mkdir(dest_path)\n",
        "    print(f'**********Directory {dest_path} created **********')\n",
        "  if os.path.exists(src_path):\n",
        "    files = os.listdir(src_path)\n",
        "    total = len(files)\n",
        "    count = 0\n",
        "    for file in os.listdir(src_path):\n",
        "      src_file_path = src_path+'/'+file\n",
        "      print(f'[{count}/{total}]**********Processing {src_file_path} file **********')\n",
        "      create_ip_profile(src_file_path, dest_path, features_list)\n",
        "      count = count+1\n",
        "  else:\n",
        "    print(f'{src_path} doesnt exist')"
      ],
      "execution_count": 0,
      "outputs": []
    },
    {
      "cell_type": "code",
      "metadata": {
        "id": "MTVh6tUYo2EH",
        "colab_type": "code",
        "colab": {}
      },
      "source": [
        "features_list = ['Receive Time', 'Source address',\n",
        "                  'Destination address',\n",
        "                  'Application',\n",
        "                  'Source Port',\n",
        "                  'Destination Port',\n",
        "                  'IP Protocol',\n",
        "                  'Action',\n",
        "                  'Bytes',\n",
        "                  'Bytes Sent',\n",
        "                  'Bytes Received',\n",
        "                  'Packets',\n",
        "                  'Destination Country',\n",
        "                  'Packets Sent',\n",
        "                  'Packets Received']"
      ],
      "execution_count": 0,
      "outputs": []
    },
    {
      "cell_type": "code",
      "metadata": {
        "id": "qDyUDBZroAP0",
        "colab_type": "code",
        "outputId": "955ecd27-7dd8-4609-9ba1-315bc262db73",
        "colab": {
          "base_uri": "https://localhost:8080/",
          "height": 1000
        }
      },
      "source": [
        "parse_all_csv(\"drive/My Drive/Colab Notebooks/Pattern Recognition/1-Month-4-27-to-5-27-Traffic\",\n",
        "              \"drive/My Drive/Colab Notebooks/Pattern Recognition/individual_ip_csv\",\n",
        "              features_list)"
      ],
      "execution_count": 0,
      "outputs": [
        {
          "output_type": "stream",
          "text": [
            "**********Directory drive/My Drive/Colab Notebooks/Pattern Recognition/individual_ip_csv created **********\n",
            "[0/31]**********Processing drive/My Drive/Colab Notebooks/Pattern Recognition/1-Month-4-27-to-5-27-Traffic/Silverlining-PAVM-Primary_traffic_2019_05_02_last_calendar_day.csv file **********\n",
            "90 ips found\n",
            "[1/31]**********Processing drive/My Drive/Colab Notebooks/Pattern Recognition/1-Month-4-27-to-5-27-Traffic/Silverlining-PAVM-Primary_traffic_2019_05_07_last_calendar_day.csv file **********\n",
            "180 ips found\n",
            "[2/31]**********Processing drive/My Drive/Colab Notebooks/Pattern Recognition/1-Month-4-27-to-5-27-Traffic/Silverlining-PAVM-Primary_traffic_2019_05_18_last_calendar_day.csv file **********\n",
            "183 ips found\n",
            "[3/31]**********Processing drive/My Drive/Colab Notebooks/Pattern Recognition/1-Month-4-27-to-5-27-Traffic/Silverlining-PAVM-Primary_traffic_2019_05_20_last_calendar_day.csv file **********\n",
            "180 ips found\n",
            "[4/31]**********Processing drive/My Drive/Colab Notebooks/Pattern Recognition/1-Month-4-27-to-5-27-Traffic/Silverlining-PAVM-Primary_traffic_2019_05_13_last_calendar_day.csv file **********\n",
            "180 ips found\n",
            "[5/31]**********Processing drive/My Drive/Colab Notebooks/Pattern Recognition/1-Month-4-27-to-5-27-Traffic/Silverlining-PAVM-Primary_traffic_2019_04_27_last_calendar_day.csv file **********\n",
            "181 ips found\n",
            "[6/31]**********Processing drive/My Drive/Colab Notebooks/Pattern Recognition/1-Month-4-27-to-5-27-Traffic/Silverlining-PAVM-Primary_traffic_2019_05_23_last_calendar_day.csv file **********\n",
            "186 ips found\n",
            "[7/31]**********Processing drive/My Drive/Colab Notebooks/Pattern Recognition/1-Month-4-27-to-5-27-Traffic/Silverlining-PAVM-Primary_traffic_2019_05_05_last_calendar_day.csv file **********\n",
            "84 ips found\n",
            "[8/31]**********Processing drive/My Drive/Colab Notebooks/Pattern Recognition/1-Month-4-27-to-5-27-Traffic/Silverlining-PAVM-Primary_traffic_2019_05_11_last_calendar_day.csv file **********\n",
            "188 ips found\n",
            "[9/31]**********Processing drive/My Drive/Colab Notebooks/Pattern Recognition/1-Month-4-27-to-5-27-Traffic/Silverlining-PAVM-Primary_traffic_2019_05_24_last_calendar_day.csv file **********\n",
            "190 ips found\n",
            "[10/31]**********Processing drive/My Drive/Colab Notebooks/Pattern Recognition/1-Month-4-27-to-5-27-Traffic/Silverlining-PAVM-Primary_traffic_2019_05_22_last_calendar_day.csv file **********\n",
            "188 ips found\n",
            "[11/31]**********Processing drive/My Drive/Colab Notebooks/Pattern Recognition/1-Month-4-27-to-5-27-Traffic/Silverlining-PAVM-Primary_traffic_2019_05_01_last_calendar_day.csv file **********\n",
            "209 ips found\n",
            "[12/31]**********Processing drive/My Drive/Colab Notebooks/Pattern Recognition/1-Month-4-27-to-5-27-Traffic/Silverlining-PAVM-Primary_traffic_2019_05_26_last_calendar_day.csv file **********\n",
            "85 ips found\n",
            "[13/31]**********Processing drive/My Drive/Colab Notebooks/Pattern Recognition/1-Month-4-27-to-5-27-Traffic/Silverlining-PAVM-Primary_traffic_2019_05_19_last_calendar_day.csv file **********\n",
            "85 ips found\n",
            "[14/31]**********Processing drive/My Drive/Colab Notebooks/Pattern Recognition/1-Month-4-27-to-5-27-Traffic/Silverlining-PAVM-Primary_traffic_2019_05_14_last_calendar_day.csv file **********\n",
            "192 ips found\n",
            "[15/31]**********Processing drive/My Drive/Colab Notebooks/Pattern Recognition/1-Month-4-27-to-5-27-Traffic/Silverlining-PAVM-Primary_traffic_2019_05_08_last_calendar_day.csv file **********\n",
            "189 ips found\n",
            "[16/31]**********Processing drive/My Drive/Colab Notebooks/Pattern Recognition/1-Month-4-27-to-5-27-Traffic/Silverlining-PAVM-Primary_traffic_2019_05_25_last_calendar_day.csv file **********\n",
            "174 ips found\n",
            "[17/31]**********Processing drive/My Drive/Colab Notebooks/Pattern Recognition/1-Month-4-27-to-5-27-Traffic/Silverlining-PAVM-Primary_traffic_2019_05_17_last_calendar_day.csv file **********\n",
            "182 ips found\n",
            "[18/31]**********Processing drive/My Drive/Colab Notebooks/Pattern Recognition/1-Month-4-27-to-5-27-Traffic/Silverlining-PAVM-Primary_traffic_2019_05_09_last_calendar_day.csv file **********\n",
            "182 ips found\n",
            "[19/31]**********Processing drive/My Drive/Colab Notebooks/Pattern Recognition/1-Month-4-27-to-5-27-Traffic/Silverlining-PAVM-Primary_traffic_2019_04_30_last_calendar_day.csv file **********\n",
            "186 ips found\n",
            "[20/31]**********Processing drive/My Drive/Colab Notebooks/Pattern Recognition/1-Month-4-27-to-5-27-Traffic/Silverlining-PAVM-Primary_traffic_2019_05_12_last_calendar_day.csv file **********\n",
            "80 ips found\n",
            "[21/31]**********Processing drive/My Drive/Colab Notebooks/Pattern Recognition/1-Month-4-27-to-5-27-Traffic/Silverlining-PAVM-Primary_traffic_2019_05_04_last_calendar_day.csv file **********\n",
            "184 ips found\n",
            "[22/31]**********Processing drive/My Drive/Colab Notebooks/Pattern Recognition/1-Month-4-27-to-5-27-Traffic/Silverlining-PAVM-Primary_traffic_2019_05_27_last_calendar_day.csv file **********\n",
            "197 ips found\n",
            "[23/31]**********Processing drive/My Drive/Colab Notebooks/Pattern Recognition/1-Month-4-27-to-5-27-Traffic/Silverlining-PAVM-Primary_traffic_2019_05_15_last_calendar_day.csv file **********\n",
            "201 ips found\n",
            "[24/31]**********Processing drive/My Drive/Colab Notebooks/Pattern Recognition/1-Month-4-27-to-5-27-Traffic/Silverlining-PAVM-Primary_traffic_2019_05_16_last_calendar_day.csv file **********\n",
            "177 ips found\n",
            "[25/31]**********Processing drive/My Drive/Colab Notebooks/Pattern Recognition/1-Month-4-27-to-5-27-Traffic/Silverlining-PAVM-Primary_traffic_2019_05_10_last_calendar_day.csv file **********\n",
            "174 ips found\n",
            "[26/31]**********Processing drive/My Drive/Colab Notebooks/Pattern Recognition/1-Month-4-27-to-5-27-Traffic/Silverlining-PAVM-Primary_traffic_2019_04_28_last_calendar_day.csv file **********\n",
            "87 ips found\n",
            "[27/31]**********Processing drive/My Drive/Colab Notebooks/Pattern Recognition/1-Month-4-27-to-5-27-Traffic/Silverlining-PAVM-Primary_traffic_2019_05_03_last_calendar_day.csv file **********\n",
            "181 ips found\n",
            "[28/31]**********Processing drive/My Drive/Colab Notebooks/Pattern Recognition/1-Month-4-27-to-5-27-Traffic/Silverlining-PAVM-Primary_traffic_2019_05_06_last_calendar_day.csv file **********\n",
            "202 ips found\n",
            "[29/31]**********Processing drive/My Drive/Colab Notebooks/Pattern Recognition/1-Month-4-27-to-5-27-Traffic/Silverlining-PAVM-Primary_traffic_2019_05_21_last_calendar_day.csv file **********\n",
            "195 ips found\n",
            "[30/31]**********Processing drive/My Drive/Colab Notebooks/Pattern Recognition/1-Month-4-27-to-5-27-Traffic/Silverlining-PAVM-Primary_traffic_2019_04_29_last_calendar_day.csv file **********\n",
            "198 ips found\n"
          ],
          "name": "stdout"
        }
      ]
    }
  ]
}